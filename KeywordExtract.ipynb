{
  "nbformat": 4,
  "nbformat_minor": 0,
  "metadata": {
    "colab": {
      "provenance": []
    },
    "kernelspec": {
      "name": "python3",
      "display_name": "Python 3"
    },
    "language_info": {
      "name": "python"
    }
  },
  "cells": [
    {
      "cell_type": "code",
      "execution_count": 76,
      "metadata": {
        "id": "N7F1QTfad_9U"
      },
      "outputs": [],
      "source": [
        "import nltk"
      ]
    },
    {
      "cell_type": "code",
      "source": [
        "text=\"As a manufacturing engineer developing medical devices, my goal is to apply business analytics skills to challenges I face in my profession. My ambition is to use new skills and tools to solve problems in a better or more robust manner which I would otherwise not be able to without the business analytics background. My desired outcome is apply my new skills in as many ways possible to become more knowledgeable in them and to share them with other in hopes of making a larger favorable business impact to my employer those in need of the medical devices.\""
      ],
      "metadata": {
        "id": "zVw29eRYkUhK"
      },
      "execution_count": 77,
      "outputs": []
    },
    {
      "cell_type": "code",
      "source": [
        "tokens=[t for t in text.split()]"
      ],
      "metadata": {
        "id": "Gk3ovuBRlHTq"
      },
      "execution_count": 78,
      "outputs": []
    },
    {
      "cell_type": "code",
      "source": [
        "freqs=nltk.FreqDist(tokens)\n",
        "blah_list=[(k,v) for k,v in freqs.items()]\n",
        "print(blah_list)"
      ],
      "metadata": {
        "colab": {
          "base_uri": "https://localhost:8080/"
        },
        "id": "tj0kG323k0DX",
        "outputId": "34f29d14-ce18-45e7-b046-9140708065bd"
      },
      "execution_count": 79,
      "outputs": [
        {
          "output_type": "stream",
          "name": "stdout",
          "text": [
            "[('As', 1), ('a', 3), ('manufacturing', 1), ('engineer', 1), ('developing', 1), ('medical', 2), ('devices,', 1), ('my', 4), ('goal', 1), ('is', 3), ('to', 8), ('apply', 2), ('business', 3), ('analytics', 2), ('skills', 3), ('challenges', 1), ('I', 2), ('face', 1), ('in', 6), ('profession.', 1), ('My', 2), ('ambition', 1), ('use', 1), ('new', 2), ('and', 2), ('tools', 1), ('solve', 1), ('problems', 1), ('better', 1), ('or', 1), ('more', 2), ('robust', 1), ('manner', 1), ('which', 1), ('would', 1), ('otherwise', 1), ('not', 1), ('be', 1), ('able', 1), ('without', 1), ('the', 2), ('background.', 1), ('desired', 1), ('outcome', 1), ('as', 1), ('many', 1), ('ways', 1), ('possible', 1), ('become', 1), ('knowledgeable', 1), ('them', 2), ('share', 1), ('with', 1), ('other', 1), ('hopes', 1), ('of', 2), ('making', 1), ('larger', 1), ('favorable', 1), ('impact', 1), ('employer', 1), ('those', 1), ('need', 1), ('devices.', 1)]\n"
          ]
        }
      ]
    },
    {
      "cell_type": "code",
      "source": [
        "!pip install rake-nltk"
      ],
      "metadata": {
        "colab": {
          "base_uri": "https://localhost:8080/"
        },
        "id": "cVZDeak-qKVu",
        "outputId": "24a94cbb-d874-4801-e390-c10bf02fa26e"
      },
      "execution_count": 80,
      "outputs": [
        {
          "output_type": "stream",
          "name": "stdout",
          "text": [
            "Looking in indexes: https://pypi.org/simple, https://us-python.pkg.dev/colab-wheels/public/simple/\n",
            "Requirement already satisfied: rake-nltk in /usr/local/lib/python3.10/dist-packages (1.0.6)\n",
            "Requirement already satisfied: nltk<4.0.0,>=3.6.2 in /usr/local/lib/python3.10/dist-packages (from rake-nltk) (3.8.1)\n",
            "Requirement already satisfied: click in /usr/local/lib/python3.10/dist-packages (from nltk<4.0.0,>=3.6.2->rake-nltk) (8.1.3)\n",
            "Requirement already satisfied: joblib in /usr/local/lib/python3.10/dist-packages (from nltk<4.0.0,>=3.6.2->rake-nltk) (1.2.0)\n",
            "Requirement already satisfied: regex>=2021.8.3 in /usr/local/lib/python3.10/dist-packages (from nltk<4.0.0,>=3.6.2->rake-nltk) (2022.10.31)\n",
            "Requirement already satisfied: tqdm in /usr/local/lib/python3.10/dist-packages (from nltk<4.0.0,>=3.6.2->rake-nltk) (4.65.0)\n"
          ]
        }
      ]
    },
    {
      "cell_type": "code",
      "source": [
        "from rake_nltk import Rake"
      ],
      "metadata": {
        "id": "g5fNf6qloZ-h"
      },
      "execution_count": 81,
      "outputs": []
    },
    {
      "cell_type": "code",
      "source": [
        "import nltk\n",
        "nltk.download('stopwords')"
      ],
      "metadata": {
        "colab": {
          "base_uri": "https://localhost:8080/"
        },
        "id": "P8DY6CXfqV6E",
        "outputId": "84e7127e-b777-4ce6-b253-4089818941e6"
      },
      "execution_count": 82,
      "outputs": [
        {
          "output_type": "stream",
          "name": "stderr",
          "text": [
            "[nltk_data] Downloading package stopwords to /root/nltk_data...\n",
            "[nltk_data]   Package stopwords is already up-to-date!\n"
          ]
        },
        {
          "output_type": "execute_result",
          "data": {
            "text/plain": [
              "True"
            ]
          },
          "metadata": {},
          "execution_count": 82
        }
      ]
    },
    {
      "cell_type": "code",
      "source": [
        "nltk.download('punkt')"
      ],
      "metadata": {
        "colab": {
          "base_uri": "https://localhost:8080/"
        },
        "id": "KmedJj4pqmAi",
        "outputId": "babf5eec-83f4-4950-eef3-d4e9e3fe7e90"
      },
      "execution_count": 83,
      "outputs": [
        {
          "output_type": "stream",
          "name": "stderr",
          "text": [
            "[nltk_data] Downloading package punkt to /root/nltk_data...\n",
            "[nltk_data]   Package punkt is already up-to-date!\n"
          ]
        },
        {
          "output_type": "execute_result",
          "data": {
            "text/plain": [
              "True"
            ]
          },
          "metadata": {},
          "execution_count": 83
        }
      ]
    },
    {
      "cell_type": "code",
      "source": [
        "rake_nltk_var = Rake()"
      ],
      "metadata": {
        "id": "L5BC3sjoqO4C"
      },
      "execution_count": 84,
      "outputs": []
    },
    {
      "cell_type": "code",
      "source": [
        "rake_nltk_var.extract_keywords_from_text(text)"
      ],
      "metadata": {
        "id": "0Pggk32KqZfu"
      },
      "execution_count": 85,
      "outputs": []
    },
    {
      "cell_type": "code",
      "source": [
        "keyword_extracted = rake_nltk_var.get_ranked_phrases()"
      ],
      "metadata": {
        "id": "1JJsE6SNqqMe"
      },
      "execution_count": 86,
      "outputs": []
    },
    {
      "cell_type": "code",
      "source": [
        "print(keyword_extracted)"
      ],
      "metadata": {
        "colab": {
          "base_uri": "https://localhost:8080/"
        },
        "id": "xjA29WOapt8P",
        "outputId": "a5f22edf-51a0-4a18-9b26-4b721ccafbf7"
      },
      "execution_count": 87,
      "outputs": [
        {
          "output_type": "stream",
          "name": "stdout",
          "text": [
            "['manufacturing engineer developing medical devices', 'larger favorable business impact', 'apply business analytics skills', 'business analytics background', 'many ways possible', 'use new skills', 'medical devices', 'new skills', 'would otherwise', 'solve problems', 'robust manner', 'desired outcome', 'apply', 'without', 'tools', 'share', 'profession', 'need', 'making', 'knowledgeable', 'hopes', 'goal', 'face', 'employer', 'challenges', 'better', 'become', 'ambition', 'able']\n"
          ]
        }
      ]
    }
  ]
}