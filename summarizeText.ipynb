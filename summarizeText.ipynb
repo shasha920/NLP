{
 "cells": [
  {
   "cell_type": "code",
   "execution_count": 1,
   "id": "708fa8be-c49c-4db0-bce0-251626575eb4",
   "metadata": {},
   "outputs": [],
   "source": [
    "import openai\n",
    "import os\n",
    "\n",
    "from dotenv import load_dotenv, find_dotenv\n",
    "_ = load_dotenv(find_dotenv())\n",
    "\n",
    "openai.api_key  = ('')"
   ]
  },
  {
   "cell_type": "code",
   "execution_count": 2,
   "id": "3a996f7b-a420-4dfb-b162-ab67f40c7146",
   "metadata": {},
   "outputs": [],
   "source": [
    "def get_completion(prompt, model=\"gpt-3.5-turbo\"):\n",
    "    messages = [{\"role\": \"user\", \"content\": prompt}]\n",
    "    response = openai.ChatCompletion.create(\n",
    "        model=model,\n",
    "        messages=messages,\n",
    "        temperature=0, # this is the degree of randomness of the model's output\n",
    "    )\n",
    "    return response.choices[0].message[\"content\"]"
   ]
  },
  {
   "cell_type": "code",
   "execution_count": 3,
   "id": "a62f6376-b96b-4139-a336-c1c36f99ffc2",
   "metadata": {},
   "outputs": [],
   "source": [
    "text=\"As a manufacturing engineer developing medical devices, my goal is to apply business analytics skills to challenges I face in my profession. My ambition is to use new skills and tools to solve problems in a better or more robust manner which I would otherwise not be able to without the business analytics background. My desired outcome is apply my new skills in as many ways possible to become more knowledgeable in them and to share them with other in hopes of making a larger favorable business impact to my employer those in need of the medical devices.\""
   ]
  },
  {
   "cell_type": "code",
   "execution_count": 4,
   "id": "3389d985-fb1a-4c22-949b-3c59cbbe7548",
   "metadata": {},
   "outputs": [
    {
     "name": "stdout",
     "output_type": "stream",
     "text": [
      "A manufacturing engineer aims to apply business analytics skills to solve problems in a better or more robust manner and hopes to share them with others to make a larger favorable business impact.\n"
     ]
    }
   ],
   "source": [
    "#character limit\n",
    "prompt=f\"\"\"\n",
    "Your task is to generate a short summary from an text. \n",
    "\n",
    "Summarize the review below, delimited by triple \n",
    "backticks, in at most 30 words. \n",
    "\n",
    "Review: ```{text}```\n",
    "\"\"\"\n",
    "\n",
    "response=get_completion(prompt)\n",
    "print(response)"
   ]
  },
  {
   "cell_type": "code",
   "execution_count": null,
   "id": "71da78bc-7ee3-43e3-bbdd-bddf041ec114",
   "metadata": {},
   "outputs": [],
   "source": []
  }
 ],
 "metadata": {
  "kernelspec": {
   "display_name": "Python 3 (ipykernel)",
   "language": "python",
   "name": "python3"
  },
  "language_info": {
   "codemirror_mode": {
    "name": "ipython",
    "version": 3
   },
   "file_extension": ".py",
   "mimetype": "text/x-python",
   "name": "python",
   "nbconvert_exporter": "python",
   "pygments_lexer": "ipython3",
   "version": "3.9.12"
  }
 },
 "nbformat": 4,
 "nbformat_minor": 5
}
